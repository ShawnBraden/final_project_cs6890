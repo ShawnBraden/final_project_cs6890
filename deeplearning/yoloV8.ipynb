{
 "cells": [
  {
   "cell_type": "code",
   "execution_count": 6,
   "metadata": {},
   "outputs": [
    {
     "name": "stderr",
     "output_type": "stream",
     "text": [
      "Copying files: 3008 files [03:41, 13.55 files/s] \n"
     ]
    }
   ],
   "source": [
    "from ultralytics import YOLO\n",
    "from PIL import Image"
   ]
  },
  {
   "cell_type": "code",
   "execution_count": 7,
   "metadata": {},
   "outputs": [],
   "source": [
    "# Load a pretrained YOLO model (recommended for training)\n",
    "model = YOLO('yolov8n.pt')"
   ]
  },
  {
   "cell_type": "code",
   "execution_count": 4,
   "metadata": {},
   "outputs": [
    {
     "name": "stdout",
     "output_type": "stream",
     "text": [
      "Ultralytics YOLOv8.1.47  Python-3.10.11 torch-2.2.2+cpu CPU (AMD Ryzen 5 3600 6-Core Processor)\n",
      "\u001b[34m\u001b[1mengine\\trainer: \u001b[0mtask=detect, mode=train, model=yolov8n.pt, data=coco128.yaml, epochs=3, time=None, patience=100, batch=16, imgsz=640, save=True, save_period=-1, cache=False, device=None, workers=8, project=None, name=train, exist_ok=False, pretrained=True, optimizer=auto, verbose=True, seed=0, deterministic=True, single_cls=False, rect=False, cos_lr=False, close_mosaic=10, resume=False, amp=True, fraction=1.0, profile=False, freeze=None, multi_scale=False, overlap_mask=True, mask_ratio=4, dropout=0.0, val=True, split=val, save_json=False, save_hybrid=False, conf=None, iou=0.7, max_det=300, half=False, dnn=False, plots=True, source=None, vid_stride=1, stream_buffer=False, visualize=False, augment=False, agnostic_nms=False, classes=None, retina_masks=False, embed=None, show=False, save_frames=False, save_txt=False, save_conf=False, save_crop=False, show_labels=True, show_conf=True, show_boxes=True, line_width=None, format=torchscript, keras=False, optimize=False, int8=False, dynamic=False, simplify=False, opset=None, workspace=4, nms=False, lr0=0.01, lrf=0.01, momentum=0.937, weight_decay=0.0005, warmup_epochs=3.0, warmup_momentum=0.8, warmup_bias_lr=0.1, box=7.5, cls=0.5, dfl=1.5, pose=12.0, kobj=1.0, label_smoothing=0.0, nbs=64, hsv_h=0.015, hsv_s=0.7, hsv_v=0.4, degrees=0.0, translate=0.1, scale=0.5, shear=0.0, perspective=0.0, flipud=0.0, fliplr=0.5, bgr=0.0, mosaic=1.0, mixup=0.0, copy_paste=0.0, auto_augment=randaugment, erasing=0.4, crop_fraction=1.0, cfg=None, tracker=botsort.yaml, save_dir=runs\\detect\\train\n",
      "\n",
      "Dataset 'coco128.yaml' images not found , missing path 'C:\\Users\\Shawn\\Documents\\masters_spring_2024\\deeplearning\\datasets\\coco128\\images\\train2017'\n",
      "Downloading https://ultralytics.com/assets/coco128.zip to 'C:\\Users\\Shawn\\Documents\\masters_spring_2024\\deeplearning\\datasets\\coco128.zip'...\n"
     ]
    },
    {
     "name": "stderr",
     "output_type": "stream",
     "text": [
      "100%|██████████| 6.66M/6.66M [00:00<00:00, 23.0MB/s]\n",
      "Unzipping C:\\Users\\Shawn\\Documents\\masters_spring_2024\\deeplearning\\datasets\\coco128.zip to C:\\Users\\Shawn\\Documents\\masters_spring_2024\\deeplearning\\datasets\\coco128...: 100%|██████████| 263/263 [00:00<00:00, 1764.72file/s]"
     ]
    },
    {
     "name": "stdout",
     "output_type": "stream",
     "text": [
      "Dataset download success  (1.9s), saved to \u001b[1mC:\\Users\\Shawn\\Documents\\masters_spring_2024\\deeplearning\\datasets\u001b[0m\n",
      "\n"
     ]
    },
    {
     "name": "stderr",
     "output_type": "stream",
     "text": [
      "\n"
     ]
    },
    {
     "name": "stdout",
     "output_type": "stream",
     "text": [
      "Downloading https://ultralytics.com/assets/Arial.ttf to 'C:\\Users\\Shawn\\AppData\\Roaming\\Ultralytics\\Arial.ttf'...\n"
     ]
    },
    {
     "name": "stderr",
     "output_type": "stream",
     "text": [
      "100%|██████████| 755k/755k [00:00<00:00, 8.67MB/s]"
     ]
    },
    {
     "name": "stdout",
     "output_type": "stream",
     "text": [
      "\n",
      "                   from  n    params  module                                       arguments                     \n",
      "  0                  -1  1       464  ultralytics.nn.modules.conv.Conv             [3, 16, 3, 2]                 \n",
      "  1                  -1  1      4672  ultralytics.nn.modules.conv.Conv             [16, 32, 3, 2]                \n"
     ]
    },
    {
     "name": "stderr",
     "output_type": "stream",
     "text": [
      "\n"
     ]
    },
    {
     "name": "stdout",
     "output_type": "stream",
     "text": [
      "  2                  -1  1      7360  ultralytics.nn.modules.block.C2f             [32, 32, 1, True]             \n",
      "  3                  -1  1     18560  ultralytics.nn.modules.conv.Conv             [32, 64, 3, 2]                \n",
      "  4                  -1  2     49664  ultralytics.nn.modules.block.C2f             [64, 64, 2, True]             \n",
      "  5                  -1  1     73984  ultralytics.nn.modules.conv.Conv             [64, 128, 3, 2]               \n",
      "  6                  -1  2    197632  ultralytics.nn.modules.block.C2f             [128, 128, 2, True]           \n",
      "  7                  -1  1    295424  ultralytics.nn.modules.conv.Conv             [128, 256, 3, 2]              \n",
      "  8                  -1  1    460288  ultralytics.nn.modules.block.C2f             [256, 256, 1, True]           \n",
      "  9                  -1  1    164608  ultralytics.nn.modules.block.SPPF            [256, 256, 5]                 \n",
      " 10                  -1  1         0  torch.nn.modules.upsampling.Upsample         [None, 2, 'nearest']          \n",
      " 11             [-1, 6]  1         0  ultralytics.nn.modules.conv.Concat           [1]                           \n",
      " 12                  -1  1    148224  ultralytics.nn.modules.block.C2f             [384, 128, 1]                 \n",
      " 13                  -1  1         0  torch.nn.modules.upsampling.Upsample         [None, 2, 'nearest']          \n",
      " 14             [-1, 4]  1         0  ultralytics.nn.modules.conv.Concat           [1]                           \n",
      " 15                  -1  1     37248  ultralytics.nn.modules.block.C2f             [192, 64, 1]                  \n",
      " 16                  -1  1     36992  ultralytics.nn.modules.conv.Conv             [64, 64, 3, 2]                \n",
      " 17            [-1, 12]  1         0  ultralytics.nn.modules.conv.Concat           [1]                           \n",
      " 18                  -1  1    123648  ultralytics.nn.modules.block.C2f             [192, 128, 1]                 \n",
      " 19                  -1  1    147712  ultralytics.nn.modules.conv.Conv             [128, 128, 3, 2]              \n",
      " 20             [-1, 9]  1         0  ultralytics.nn.modules.conv.Concat           [1]                           \n",
      " 21                  -1  1    493056  ultralytics.nn.modules.block.C2f             [384, 256, 1]                 \n",
      " 22        [15, 18, 21]  1    897664  ultralytics.nn.modules.head.Detect           [80, [64, 128, 256]]          \n",
      "Model summary: 225 layers, 3157200 parameters, 3157184 gradients, 8.9 GFLOPs\n",
      "\n",
      "Transferred 355/355 items from pretrained weights\n",
      "Freezing layer 'model.22.dfl.conv.weight'\n"
     ]
    },
    {
     "name": "stderr",
     "output_type": "stream",
     "text": [
      "\u001b[34m\u001b[1mtrain: \u001b[0mScanning C:\\Users\\Shawn\\Documents\\masters_spring_2024\\deeplearning\\datasets\\coco128\\labels\\train2017... 126 images, 2 backgrounds, 0 corrupt: 100%|██████████| 128/128 [00:00<00:00, 503.82it/s]"
     ]
    },
    {
     "name": "stdout",
     "output_type": "stream",
     "text": [
      "\u001b[34m\u001b[1mtrain: \u001b[0mNew cache created: C:\\Users\\Shawn\\Documents\\masters_spring_2024\\deeplearning\\datasets\\coco128\\labels\\train2017.cache\n"
     ]
    },
    {
     "name": "stderr",
     "output_type": "stream",
     "text": [
      "\n",
      "\u001b[34m\u001b[1mval: \u001b[0mScanning C:\\Users\\Shawn\\Documents\\masters_spring_2024\\deeplearning\\datasets\\coco128\\labels\\train2017.cache... 126 images, 2 backgrounds, 0 corrupt: 100%|██████████| 128/128 [00:00<?, ?it/s]\n"
     ]
    },
    {
     "name": "stdout",
     "output_type": "stream",
     "text": [
      "Plotting labels to runs\\detect\\train\\labels.jpg... \n",
      "\u001b[34m\u001b[1moptimizer:\u001b[0m 'optimizer=auto' found, ignoring 'lr0=0.01' and 'momentum=0.937' and determining best 'optimizer', 'lr0' and 'momentum' automatically... \n",
      "\u001b[34m\u001b[1moptimizer:\u001b[0m AdamW(lr=0.000119, momentum=0.9) with parameter groups 57 weight(decay=0.0), 64 weight(decay=0.0005), 63 bias(decay=0.0)\n",
      "Image sizes 640 train, 640 val\n",
      "Using 0 dataloader workers\n",
      "Logging results to \u001b[1mruns\\detect\\train\u001b[0m\n",
      "Starting training for 3 epochs...\n",
      "\n",
      "      Epoch    GPU_mem   box_loss   cls_loss   dfl_loss  Instances       Size\n"
     ]
    },
    {
     "name": "stderr",
     "output_type": "stream",
     "text": [
      "        1/3         0G      1.135      1.433      1.236        278        640: 100%|██████████| 8/8 [00:40<00:00,  5.11s/it]\n",
      "                 Class     Images  Instances      Box(P          R      mAP50  mAP50-95): 100%|██████████| 4/4 [00:16<00:00,  4.17s/it]"
     ]
    },
    {
     "name": "stdout",
     "output_type": "stream",
     "text": [
      "                   all        128        929      0.657      0.534      0.615      0.457\n"
     ]
    },
    {
     "name": "stderr",
     "output_type": "stream",
     "text": [
      "\n"
     ]
    },
    {
     "name": "stdout",
     "output_type": "stream",
     "text": [
      "\n",
      "      Epoch    GPU_mem   box_loss   cls_loss   dfl_loss  Instances       Size\n"
     ]
    },
    {
     "name": "stderr",
     "output_type": "stream",
     "text": [
      "        2/3         0G      1.111      1.346      1.238        167        640: 100%|██████████| 8/8 [00:39<00:00,  4.95s/it]\n",
      "                 Class     Images  Instances      Box(P          R      mAP50  mAP50-95): 100%|██████████| 4/4 [00:15<00:00,  3.81s/it]"
     ]
    },
    {
     "name": "stdout",
     "output_type": "stream",
     "text": [
      "                   all        128        929      0.681      0.541      0.625      0.465\n"
     ]
    },
    {
     "name": "stderr",
     "output_type": "stream",
     "text": [
      "\n"
     ]
    },
    {
     "name": "stdout",
     "output_type": "stream",
     "text": [
      "\n",
      "      Epoch    GPU_mem   box_loss   cls_loss   dfl_loss  Instances       Size\n"
     ]
    },
    {
     "name": "stderr",
     "output_type": "stream",
     "text": [
      "        3/3         0G      1.199      1.409      1.239        239        640: 100%|██████████| 8/8 [00:39<00:00,  4.89s/it]\n",
      "                 Class     Images  Instances      Box(P          R      mAP50  mAP50-95): 100%|██████████| 4/4 [00:15<00:00,  3.82s/it]"
     ]
    },
    {
     "name": "stdout",
     "output_type": "stream",
     "text": [
      "                   all        128        929      0.656      0.554      0.631      0.471\n"
     ]
    },
    {
     "name": "stderr",
     "output_type": "stream",
     "text": [
      "\n"
     ]
    },
    {
     "name": "stdout",
     "output_type": "stream",
     "text": [
      "\n",
      "3 epochs completed in 0.047 hours.\n",
      "Optimizer stripped from runs\\detect\\train\\weights\\last.pt, 6.5MB\n",
      "Optimizer stripped from runs\\detect\\train\\weights\\best.pt, 6.5MB\n",
      "\n",
      "Validating runs\\detect\\train\\weights\\best.pt...\n",
      "Ultralytics YOLOv8.1.47  Python-3.10.11 torch-2.2.2+cpu CPU (AMD Ryzen 5 3600 6-Core Processor)\n",
      "Model summary (fused): 168 layers, 3151904 parameters, 0 gradients, 8.7 GFLOPs\n"
     ]
    },
    {
     "name": "stderr",
     "output_type": "stream",
     "text": [
      "                 Class     Images  Instances      Box(P          R      mAP50  mAP50-95): 100%|██████████| 4/4 [00:10<00:00,  2.75s/it]\n"
     ]
    },
    {
     "name": "stdout",
     "output_type": "stream",
     "text": [
      "                   all        128        929      0.657      0.554      0.631      0.471\n",
      "                person        128        254      0.805      0.684      0.768      0.545\n",
      "               bicycle        128          6      0.515      0.333      0.327      0.282\n",
      "                   car        128         46      0.803      0.217      0.282      0.174\n",
      "            motorcycle        128          5      0.683      0.869      0.898      0.675\n",
      "              airplane        128          6       0.83      0.818      0.927      0.708\n",
      "                   bus        128          7      0.718      0.714       0.73      0.641\n",
      "                 train        128          3      0.564      0.667      0.775      0.687\n",
      "                 truck        128         12          1      0.456      0.522      0.329\n",
      "                  boat        128          6      0.279      0.167      0.433      0.264\n",
      "         traffic light        128         14      0.659      0.214      0.204      0.139\n",
      "             stop sign        128          2       0.98          1      0.995      0.711\n",
      "                 bench        128          9      0.841      0.591      0.633      0.381\n",
      "                  bird        128         16      0.924      0.762      0.891      0.538\n",
      "                   cat        128          4      0.868          1      0.995      0.835\n",
      "                   dog        128          9      0.648      0.889      0.852      0.599\n",
      "                 horse        128          2      0.595          1      0.995      0.464\n",
      "              elephant        128         17      0.839      0.765      0.908      0.676\n",
      "                  bear        128          1      0.617          1      0.995      0.995\n",
      "                 zebra        128          4      0.853          1      0.995      0.965\n",
      "               giraffe        128          9      0.834          1      0.962      0.723\n",
      "              backpack        128          6      0.605      0.333      0.382      0.235\n",
      "              umbrella        128         18      0.748      0.494      0.633      0.425\n",
      "               handbag        128         19      0.569     0.0744      0.185     0.0976\n",
      "                   tie        128          7      0.799      0.714      0.677      0.455\n",
      "              suitcase        128          4      0.639          1      0.828      0.622\n",
      "               frisbee        128          5      0.609        0.8       0.76      0.688\n",
      "                  skis        128          1      0.625          1      0.995      0.497\n",
      "             snowboard        128          7      0.703      0.714      0.764      0.506\n",
      "           sports ball        128          6      0.588      0.333      0.477      0.269\n",
      "                  kite        128         10      0.816        0.5      0.588      0.215\n",
      "          baseball bat        128          4      0.408      0.362      0.373      0.187\n",
      "        baseball glove        128          7      0.656      0.429       0.43      0.295\n",
      "            skateboard        128          5      0.759        0.6      0.599      0.446\n",
      "         tennis racket        128          7      0.741      0.414      0.502      0.342\n",
      "                bottle        128         18      0.501      0.389      0.355       0.21\n",
      "            wine glass        128         16      0.575      0.562      0.558      0.329\n",
      "                   cup        128         36      0.615      0.267      0.399      0.283\n",
      "                  fork        128          6      0.582      0.167      0.296      0.206\n",
      "                 knife        128         16      0.635      0.544      0.603      0.364\n",
      "                 spoon        128         22      0.613      0.227       0.34      0.186\n",
      "                  bowl        128         28      0.652      0.679      0.642      0.535\n",
      "                banana        128          1          0          0      0.142      0.042\n",
      "              sandwich        128          2      0.383        0.5      0.662      0.662\n",
      "                orange        128          4          1      0.357      0.995      0.666\n",
      "              broccoli        128         11      0.418      0.198      0.271      0.222\n",
      "                carrot        128         24      0.685      0.543      0.692      0.448\n",
      "               hot dog        128          2      0.652      0.956      0.828      0.796\n",
      "                 pizza        128          5      0.792          1      0.995      0.844\n",
      "                 donut        128         14      0.645          1      0.917       0.83\n",
      "                  cake        128          4      0.735          1      0.995       0.88\n",
      "                 chair        128         35      0.479      0.486      0.466      0.266\n",
      "                 couch        128          6      0.404      0.333      0.641       0.49\n",
      "          potted plant        128         14       0.69      0.643      0.729        0.5\n",
      "                   bed        128          3       0.76      0.667       0.83      0.689\n",
      "          dining table        128         13       0.46      0.615      0.496      0.395\n",
      "                toilet        128          2      0.623        0.5      0.828      0.796\n",
      "                    tv        128          2      0.408        0.5      0.695      0.656\n",
      "                laptop        128          3          1      0.341      0.764      0.602\n",
      "                 mouse        128          2          1          0     0.0483    0.00483\n",
      "                remote        128          8      0.838        0.5      0.581      0.505\n",
      "            cell phone        128          8          0          0     0.0578     0.0361\n",
      "             microwave        128          3      0.486      0.667       0.83      0.733\n",
      "                  oven        128          5      0.462        0.4      0.343      0.273\n",
      "                  sink        128          6      0.359      0.167      0.231      0.147\n",
      "          refrigerator        128          5      0.691        0.4      0.648      0.525\n",
      "                  book        128         29      0.642      0.125      0.376      0.189\n",
      "                 clock        128          9      0.811      0.778      0.895       0.74\n",
      "                  vase        128          2      0.365          1      0.828      0.795\n",
      "              scissors        128          1          1          0      0.249     0.0802\n",
      "            teddy bear        128         21      0.887      0.375      0.624       0.43\n",
      "            toothbrush        128          5       0.71      0.503      0.702      0.442\n",
      "Speed: 1.8ms preprocess, 73.2ms inference, 0.0ms loss, 2.2ms postprocess per image\n",
      "Results saved to \u001b[1mruns\\detect\\train\u001b[0m\n"
     ]
    }
   ],
   "source": [
    "# Train the model using the 'coco128.yaml' dataset for 3 epochs\n",
    "results = model.train(data='coco128.yaml', epochs=3)"
   ]
  },
  {
   "cell_type": "code",
   "execution_count": 5,
   "metadata": {},
   "outputs": [
    {
     "name": "stdout",
     "output_type": "stream",
     "text": [
      "Ultralytics YOLOv8.1.47  Python-3.10.11 torch-2.2.2+cpu CPU (AMD Ryzen 5 3600 6-Core Processor)\n",
      "Model summary (fused): 168 layers, 3151904 parameters, 0 gradients, 8.7 GFLOPs\n"
     ]
    },
    {
     "name": "stderr",
     "output_type": "stream",
     "text": [
      "\u001b[34m\u001b[1mval: \u001b[0mScanning C:\\Users\\Shawn\\Documents\\masters_spring_2024\\deeplearning\\datasets\\coco128\\labels\\train2017.cache... 126 images, 2 backgrounds, 0 corrupt: 100%|██████████| 128/128 [00:00<?, ?it/s]\n",
      "                 Class     Images  Instances      Box(P          R      mAP50  mAP50-95): 100%|██████████| 8/8 [00:09<00:00,  1.22s/it]\n"
     ]
    },
    {
     "name": "stdout",
     "output_type": "stream",
     "text": [
      "                   all        128        929      0.656      0.561      0.629      0.467\n",
      "                person        128        254      0.805      0.682      0.769      0.545\n",
      "               bicycle        128          6      0.509      0.333      0.323       0.28\n",
      "                   car        128         46      0.799      0.217      0.282      0.174\n",
      "            motorcycle        128          5      0.684      0.872      0.898      0.675\n",
      "              airplane        128          6       0.83      0.819      0.927      0.708\n",
      "                   bus        128          7      0.634      0.714      0.729       0.64\n",
      "                 train        128          3      0.564      0.667      0.789      0.698\n",
      "                 truck        128         12       0.92      0.417      0.503      0.288\n",
      "                  boat        128          6      0.315      0.239      0.394      0.234\n",
      "         traffic light        128         14      0.688      0.214      0.205       0.14\n",
      "             stop sign        128          2      0.975          1      0.995      0.713\n",
      "                 bench        128          9      0.843        0.6      0.633      0.381\n",
      "                  bird        128         16      0.924      0.763       0.89      0.536\n",
      "                   cat        128          4      0.864          1      0.995      0.835\n",
      "                   dog        128          9      0.647      0.889      0.852        0.6\n",
      "                 horse        128          2      0.592          1      0.995      0.464\n",
      "              elephant        128         17      0.836      0.765      0.908      0.676\n",
      "                  bear        128          1      0.616          1      0.995      0.995\n",
      "                 zebra        128          4      0.853          1      0.995      0.965\n",
      "               giraffe        128          9      0.739          1      0.975      0.759\n",
      "              backpack        128          6      0.615      0.333      0.381      0.232\n",
      "              umbrella        128         18      0.748      0.496      0.629      0.423\n",
      "               handbag        128         19      0.575     0.0765      0.183     0.0968\n",
      "                   tie        128          7      0.798      0.714      0.677      0.454\n",
      "              suitcase        128          4      0.635          1      0.828      0.622\n",
      "               frisbee        128          5      0.607        0.8      0.759      0.688\n",
      "                  skis        128          1      0.618          1      0.995      0.497\n",
      "             snowboard        128          7      0.701      0.714      0.757      0.506\n",
      "           sports ball        128          6      0.587      0.333      0.464      0.263\n",
      "                  kite        128         10      0.812        0.5      0.589      0.216\n",
      "          baseball bat        128          4      0.407       0.25      0.348      0.199\n",
      "        baseball glove        128          7      0.642      0.429       0.43      0.316\n",
      "            skateboard        128          5      0.823        0.6      0.599      0.426\n",
      "         tennis racket        128          7      0.742      0.415      0.502      0.327\n",
      "                bottle        128         18       0.47      0.389      0.379      0.225\n",
      "            wine glass        128         16      0.587      0.562      0.531       0.32\n",
      "                   cup        128         36      0.606        0.3      0.419      0.292\n",
      "                  fork        128          6       0.57      0.167      0.238      0.184\n",
      "                 knife        128         16      0.557      0.551      0.588      0.358\n",
      "                 spoon        128         22      0.585      0.182      0.341      0.193\n",
      "                  bowl        128         28      0.662      0.679      0.663      0.507\n",
      "                banana        128          1          0          0     0.0995     0.0379\n",
      "              sandwich        128          2       0.31        0.5      0.414      0.414\n",
      "                orange        128          4          1       0.36      0.995      0.666\n",
      "              broccoli        128         11      0.351      0.182      0.262       0.21\n",
      "                carrot        128         24      0.703      0.625      0.686      0.441\n",
      "               hot dog        128          2      0.642      0.925      0.828      0.796\n",
      "                 pizza        128          5      0.875          1      0.995      0.843\n",
      "                 donut        128         14      0.645          1      0.913      0.831\n",
      "                  cake        128          4      0.634          1      0.995       0.88\n",
      "                 chair        128         35      0.475      0.486      0.463      0.257\n",
      "                 couch        128          6       0.51        0.5      0.738      0.579\n",
      "          potted plant        128         14      0.677      0.643      0.729      0.501\n",
      "                   bed        128          3          1      0.924      0.995      0.707\n",
      "          dining table        128         13      0.522      0.615      0.488      0.389\n",
      "                toilet        128          2      0.621        0.5      0.828      0.796\n",
      "                    tv        128          2      0.407        0.5      0.695      0.656\n",
      "                laptop        128          3          1      0.344      0.708      0.566\n",
      "                 mouse        128          2          1          0     0.0694    0.00694\n",
      "                remote        128          8      0.837        0.5      0.608      0.522\n",
      "            cell phone        128          8          0          0     0.0578     0.0361\n",
      "             microwave        128          3      0.484      0.667       0.83      0.733\n",
      "                  oven        128          5      0.432        0.4      0.343      0.273\n",
      "                  sink        128          6      0.371      0.167      0.183      0.129\n",
      "          refrigerator        128          5       0.69        0.4      0.648      0.515\n",
      "                  book        128         29      0.657      0.133      0.378      0.196\n",
      "                 clock        128          9      0.808      0.778      0.895       0.74\n",
      "                  vase        128          2      0.363          1      0.828      0.795\n",
      "              scissors        128          1          1          0      0.249     0.0799\n",
      "            teddy bear        128         21      0.887      0.376      0.622      0.428\n",
      "            toothbrush        128          5      0.665        0.6      0.743      0.469\n",
      "Speed: 1.2ms preprocess, 64.3ms inference, 0.0ms loss, 2.2ms postprocess per image\n",
      "Results saved to \u001b[1mruns\\detect\\train2\u001b[0m\n"
     ]
    }
   ],
   "source": [
    "# Evaluate the model's performance on the validation set\n",
    "results = model.val()"
   ]
  },
  {
   "cell_type": "code",
   "execution_count": 12,
   "metadata": {},
   "outputs": [
    {
     "name": "stdout",
     "output_type": "stream",
     "text": [
      "\n",
      "0: 640x640 1 airplane, 90.0ms\n",
      "Speed: 3.0ms preprocess, 90.0ms inference, 1.0ms postprocess per image at shape (1, 3, 640, 640)\n",
      "Results saved to \u001b[1mruns\\detect\\train3\u001b[0m\n"
     ]
    }
   ],
   "source": [
    "im1 = Image.open('datasets\\caltech256\\258.screws\\manipulated_front000.png')\n",
    "results = model.predict(source=im1, save=True)  # save plotted images"
   ]
  },
  {
   "cell_type": "code",
   "execution_count": 15,
   "metadata": {},
   "outputs": [
    {
     "name": "stderr",
     "output_type": "stream",
     "text": [
      "Copying files: 0 files [00:00, ? files/s]"
     ]
    },
    {
     "name": "stderr",
     "output_type": "stream",
     "text": [
      "Copying files: 31463 files [00:30, 1023.76 files/s]\n"
     ]
    }
   ],
   "source": [
    "import splitfolders\n",
    "\n",
    "# Path to the Caltech 256 dataset\n",
    "caltech256_dataset_path = \"datasets/caltech256\"\n",
    "\n",
    "# Output paths for training and testing datasets\n",
    "output_path = \"datasets/caltech256\"\n",
    "\n",
    "# Split the dataset into training and testing sets (80% train, 20% test)\n",
    "splitfolders.ratio(caltech256_dataset_path, output=output_path, seed=42, ratio=(0.8, 0.2))\n"
   ]
  },
  {
   "cell_type": "code",
   "execution_count": 17,
   "metadata": {},
   "outputs": [
    {
     "name": "stdout",
     "output_type": "stream",
     "text": [
      "Ultralytics YOLOv8.1.47  Python-3.10.11 torch-2.2.2+cpu CPU (AMD Ryzen 5 3600 6-Core Processor)\n",
      "\u001b[34m\u001b[1mengine\\trainer: \u001b[0mtask=classify, mode=train, model=yolov8n-cls.pt, data=caltech256, epochs=3, time=None, patience=100, batch=16, imgsz=416, save=True, save_period=-1, cache=False, device=None, workers=8, project=None, name=train7, exist_ok=False, pretrained=True, optimizer=auto, verbose=True, seed=0, deterministic=True, single_cls=False, rect=False, cos_lr=False, close_mosaic=10, resume=False, amp=True, fraction=1.0, profile=False, freeze=None, multi_scale=False, overlap_mask=True, mask_ratio=4, dropout=0.0, val=True, split=val, save_json=False, save_hybrid=False, conf=None, iou=0.7, max_det=300, half=False, dnn=False, plots=True, source=None, vid_stride=1, stream_buffer=False, visualize=False, augment=False, agnostic_nms=False, classes=None, retina_masks=False, embed=None, show=False, save_frames=False, save_txt=False, save_conf=False, save_crop=False, show_labels=True, show_conf=True, show_boxes=True, line_width=None, format=torchscript, keras=False, optimize=False, int8=False, dynamic=False, simplify=False, opset=None, workspace=4, nms=False, lr0=0.01, lrf=0.01, momentum=0.937, weight_decay=0.0005, warmup_epochs=3.0, warmup_momentum=0.8, warmup_bias_lr=0.1, box=7.5, cls=0.5, dfl=1.5, pose=12.0, kobj=1.0, label_smoothing=0.0, nbs=64, hsv_h=0.015, hsv_s=0.7, hsv_v=0.4, degrees=0.0, translate=0.1, scale=0.5, shear=0.0, perspective=0.0, flipud=0.0, fliplr=0.5, bgr=0.0, mosaic=1.0, mixup=0.0, copy_paste=0.0, auto_augment=randaugment, erasing=0.4, crop_fraction=1.0, cfg=None, tracker=botsort.yaml, save_dir=runs\\classify\\train7\n",
      "\u001b[34m\u001b[1mtrain:\u001b[0m C:\\Users\\Shawn\\Documents\\masters_spring_2024\\deeplearning\\datasets\\caltech256\\train... found 25069 images in 259 classes  \n",
      "\u001b[34m\u001b[1mval:\u001b[0m C:\\Users\\Shawn\\Documents\\masters_spring_2024\\deeplearning\\datasets\\caltech256\\val... found 6393 images in 259 classes  \n",
      "\u001b[34m\u001b[1mtest:\u001b[0m None...\n",
      "Overriding model.yaml nc=1000 with nc=259\n",
      "\n",
      "                   from  n    params  module                                       arguments                     \n",
      "  0                  -1  1       464  ultralytics.nn.modules.conv.Conv             [3, 16, 3, 2]                 \n",
      "  1                  -1  1      4672  ultralytics.nn.modules.conv.Conv             [16, 32, 3, 2]                \n",
      "  2                  -1  1      7360  ultralytics.nn.modules.block.C2f             [32, 32, 1, True]             \n",
      "  3                  -1  1     18560  ultralytics.nn.modules.conv.Conv             [32, 64, 3, 2]                \n",
      "  4                  -1  2     49664  ultralytics.nn.modules.block.C2f             [64, 64, 2, True]             \n",
      "  5                  -1  1     73984  ultralytics.nn.modules.conv.Conv             [64, 128, 3, 2]               \n",
      "  6                  -1  2    197632  ultralytics.nn.modules.block.C2f             [128, 128, 2, True]           \n",
      "  7                  -1  1    295424  ultralytics.nn.modules.conv.Conv             [128, 256, 3, 2]              \n",
      "  8                  -1  1    460288  ultralytics.nn.modules.block.C2f             [256, 256, 1, True]           \n",
      "  9                  -1  1    662019  ultralytics.nn.modules.head.Classify         [256, 259]                    \n",
      "YOLOv8n-cls summary: 99 layers, 1770067 parameters, 1770067 gradients, 3.6 GFLOPs\n",
      "Transferred 156/158 items from pretrained weights\n"
     ]
    },
    {
     "name": "stderr",
     "output_type": "stream",
     "text": [
      "\u001b[34m\u001b[1mtrain: \u001b[0mScanning C:\\Users\\Shawn\\Documents\\masters_spring_2024\\deeplearning\\datasets\\caltech256\\train... 25069 images, 0 corrupt: 100%|██████████| 25069/25069 [00:55<00:00, 451.75it/s]"
     ]
    },
    {
     "name": "stdout",
     "output_type": "stream",
     "text": [
      "\u001b[34m\u001b[1mtrain: \u001b[0mWARNING  C:\\Users\\Shawn\\Documents\\masters_spring_2024\\deeplearning\\datasets\\caltech256\\train\\259.solar_panels\\Clean (13).jpg: corrupt JPEG restored and saved\n",
      "\u001b[34m\u001b[1mtrain: \u001b[0mWARNING  C:\\Users\\Shawn\\Documents\\masters_spring_2024\\deeplearning\\datasets\\caltech256\\train\\259.solar_panels\\Dust (17).jpg: corrupt JPEG restored and saved\n",
      "\u001b[34m\u001b[1mtrain: \u001b[0mWARNING  C:\\Users\\Shawn\\Documents\\masters_spring_2024\\deeplearning\\datasets\\caltech256\\train\\259.solar_panels\\Electrical (41).jpg: corrupt JPEG restored and saved\n",
      "\u001b[34m\u001b[1mtrain: \u001b[0mWARNING  C:\\Users\\Shawn\\Documents\\masters_spring_2024\\deeplearning\\datasets\\caltech256\\train\\259.solar_panels\\Electrical (61).jpg: corrupt JPEG restored and saved\n"
     ]
    },
    {
     "name": "stderr",
     "output_type": "stream",
     "text": [
      "\n"
     ]
    },
    {
     "name": "stdout",
     "output_type": "stream",
     "text": [
      "\u001b[34m\u001b[1mtrain: \u001b[0mNew cache created: C:\\Users\\Shawn\\Documents\\masters_spring_2024\\deeplearning\\datasets\\caltech256\\train.cache\n"
     ]
    },
    {
     "name": "stderr",
     "output_type": "stream",
     "text": [
      "\u001b[34m\u001b[1mval: \u001b[0mScanning C:\\Users\\Shawn\\Documents\\masters_spring_2024\\deeplearning\\datasets\\caltech256\\val... 6393 images, 0 corrupt: 100%|██████████| 6393/6393 [00:10<00:00, 619.25it/s]\n"
     ]
    },
    {
     "name": "stdout",
     "output_type": "stream",
     "text": [
      "\u001b[34m\u001b[1mval: \u001b[0mNew cache created: C:\\Users\\Shawn\\Documents\\masters_spring_2024\\deeplearning\\datasets\\caltech256\\val.cache\n",
      "\u001b[34m\u001b[1moptimizer:\u001b[0m 'optimizer=auto' found, ignoring 'lr0=0.01' and 'momentum=0.937' and determining best 'optimizer', 'lr0' and 'momentum' automatically... \n",
      "\u001b[34m\u001b[1moptimizer:\u001b[0m AdamW(lr=0.000714, momentum=0.9) with parameter groups 26 weight(decay=0.0), 27 weight(decay=0.0005), 27 bias(decay=0.0)\n",
      "Image sizes 416 train, 416 val\n",
      "Using 0 dataloader workers\n",
      "Logging results to \u001b[1mruns\\classify\\train7\u001b[0m\n",
      "Starting training for 3 epochs...\n",
      "\n",
      "      Epoch    GPU_mem       loss  Instances       Size\n"
     ]
    },
    {
     "name": "stderr",
     "output_type": "stream",
     "text": [
      "        1/3         0G      4.157         13        416: 100%|██████████| 1567/1567 [31:51<00:00,  1.22s/it]\n",
      "               classes   top1_acc   top5_acc: 100%|██████████| 200/200 [02:34<00:00,  1.30it/s]"
     ]
    },
    {
     "name": "stdout",
     "output_type": "stream",
     "text": [
      "                   all      0.508      0.752\n",
      "\n",
      "      Epoch    GPU_mem       loss  Instances       Size\n"
     ]
    },
    {
     "name": "stderr",
     "output_type": "stream",
     "text": [
      "\n",
      "        2/3         0G      2.113         13        416: 100%|██████████| 1567/1567 [26:54<00:00,  1.03s/it]\n",
      "               classes   top1_acc   top5_acc: 100%|██████████| 200/200 [02:27<00:00,  1.36it/s]"
     ]
    },
    {
     "name": "stdout",
     "output_type": "stream",
     "text": [
      "                   all      0.653      0.863\n",
      "\n",
      "      Epoch    GPU_mem       loss  Instances       Size\n"
     ]
    },
    {
     "name": "stderr",
     "output_type": "stream",
     "text": [
      "\n",
      "        3/3         0G      1.581         13        416: 100%|██████████| 1567/1567 [48:11<00:00,  1.84s/it] \n",
      "               classes   top1_acc   top5_acc: 100%|██████████| 200/200 [02:29<00:00,  1.33it/s]"
     ]
    },
    {
     "name": "stdout",
     "output_type": "stream",
     "text": [
      "                   all      0.711      0.888\n",
      "\n",
      "3 epochs completed in 1.908 hours.\n",
      "Optimizer stripped from runs\\classify\\train7\\weights\\last.pt, 3.6MB\n"
     ]
    },
    {
     "name": "stderr",
     "output_type": "stream",
     "text": [
      "\n"
     ]
    },
    {
     "name": "stdout",
     "output_type": "stream",
     "text": [
      "Optimizer stripped from runs\\classify\\train7\\weights\\best.pt, 3.6MB\n",
      "\n",
      "Validating runs\\classify\\train7\\weights\\best.pt...\n",
      "Ultralytics YOLOv8.1.47  Python-3.10.11 torch-2.2.2+cpu CPU (AMD Ryzen 5 3600 6-Core Processor)\n",
      "YOLOv8n-cls summary (fused): 73 layers, 1766659 parameters, 0 gradients, 3.6 GFLOPs\n",
      "\u001b[34m\u001b[1mtrain:\u001b[0m C:\\Users\\Shawn\\Documents\\masters_spring_2024\\deeplearning\\datasets\\caltech256\\train... found 25069 images in 259 classes  \n",
      "\u001b[34m\u001b[1mval:\u001b[0m C:\\Users\\Shawn\\Documents\\masters_spring_2024\\deeplearning\\datasets\\caltech256\\val... found 6393 images in 259 classes  \n",
      "\u001b[34m\u001b[1mtest:\u001b[0m None...\n"
     ]
    },
    {
     "name": "stderr",
     "output_type": "stream",
     "text": [
      "               classes   top1_acc   top5_acc: 100%|██████████| 200/200 [02:10<00:00,  1.53it/s]\n"
     ]
    },
    {
     "name": "stdout",
     "output_type": "stream",
     "text": [
      "                   all      0.711      0.888\n",
      "Speed: 0.0ms preprocess, 14.0ms inference, 0.0ms loss, 0.0ms postprocess per image\n",
      "Results saved to \u001b[1mruns\\classify\\train7\u001b[0m\n",
      "Results saved to \u001b[1mruns\\classify\\train7\u001b[0m\n"
     ]
    }
   ],
   "source": [
    "# Load a model\n",
    "model_2 = YOLO('yolov8n-cls.pt')  # load a pretrained model_2 (recommended for training)\n",
    "\n",
    "# Train the model_2\n",
    "results = model_2.train(data='caltech256', epochs=3, imgsz=416)"
   ]
  },
  {
   "cell_type": "code",
   "execution_count": 18,
   "metadata": {},
   "outputs": [
    {
     "name": "stdout",
     "output_type": "stream",
     "text": [
      "\n",
      "0: 416x416 001.ak47 0.92, 173.rifle 0.06, 172.revolver-101 0.02, 209.sword 0.00, 180.screwdriver 0.00, 24.0ms\n",
      "Speed: 7.0ms preprocess, 24.0ms inference, 0.0ms postprocess per image at shape (1, 3, 416, 416)\n",
      "Results saved to \u001b[1mruns\\classify\\train72\u001b[0m\n"
     ]
    }
   ],
   "source": [
    "im1 = Image.open('datasets/caltech256/001.ak47/001_0001.jpg')\n",
    "results = model_2.predict(source=im1, save=True)  # save plotted images"
   ]
  },
  {
   "cell_type": "code",
   "execution_count": 22,
   "metadata": {},
   "outputs": [
    {
     "name": "stdout",
     "output_type": "stream",
     "text": [
      "\n",
      "0: 416x416 258.screws 1.00, 180.screwdriver 0.00, 210.syringe 0.00, 209.sword 0.00, 074.flashlight 0.00, 22.0ms\n",
      "Speed: 11.0ms preprocess, 22.0ms inference, 0.0ms postprocess per image at shape (1, 3, 416, 416)\n",
      "Results saved to \u001b[1mruns\\classify\\train75\u001b[0m\n"
     ]
    }
   ],
   "source": [
    "im1 = Image.open('datasets/caltech256/val/258.screws/ok001.png')\n",
    "results = model_2.predict(source=im1, save=True)  # save plotted images"
   ]
  },
  {
   "cell_type": "code",
   "execution_count": 23,
   "metadata": {},
   "outputs": [
    {
     "name": "stdout",
     "output_type": "stream",
     "text": [
      "\n",
      "0: 416x416 259.solar_panels 0.96, 187.skyscraper 0.00, 198.spider 0.00, 217.tennis-court 0.00, 136.mandolin 0.00, 23.0ms\n",
      "Speed: 7.0ms preprocess, 23.0ms inference, 0.0ms postprocess per image at shape (1, 3, 416, 416)\n",
      "Results saved to \u001b[1mruns\\classify\\train76\u001b[0m\n"
     ]
    }
   ],
   "source": [
    "im1 = Image.open('datasets/caltech256/val/259.solar_panels/Clean (3).jpg')\n",
    "results = model_2.predict(source=im1, save=True)  # save plotted images"
   ]
  },
  {
   "cell_type": "code",
   "execution_count": 24,
   "metadata": {},
   "outputs": [
    {
     "name": "stdout",
     "output_type": "stream",
     "text": [
      "Ultralytics YOLOv8.1.47  Python-3.10.11 torch-2.2.2+cpu CPU (AMD Ryzen 5 3600 6-Core Processor)\n",
      "\n",
      "\u001b[34m\u001b[1mPyTorch:\u001b[0m starting from 'runs\\classify\\train7\\weights\\best.pt' with input shape (1, 3, 416, 416) BCHW and output shape(s) (1, 259) (3.5 MB)\n",
      "\u001b[31m\u001b[1mrequirements:\u001b[0m Ultralytics requirement ['onnx>=1.12.0'] not found, attempting AutoUpdate...\n",
      "Collecting onnx>=1.12.0\n",
      "  Downloading onnx-1.16.0-cp310-cp310-win_amd64.whl.metadata (16 kB)\n",
      "Requirement already satisfied: numpy>=1.20 in c:\\users\\shawn\\appdata\\local\\packages\\pythonsoftwarefoundation.python.3.10_qbz5n2kfra8p0\\localcache\\local-packages\\python310\\site-packages (from onnx>=1.12.0) (1.26.0)\n",
      "Collecting protobuf>=3.20.2 (from onnx>=1.12.0)\n",
      "  Downloading protobuf-5.26.1-cp310-abi3-win_amd64.whl.metadata (592 bytes)\n",
      "Downloading onnx-1.16.0-cp310-cp310-win_amd64.whl (14.4 MB)\n",
      "   ---------------------------------------- 14.4/14.4 MB 22.6 MB/s eta 0:00:00\n",
      "Downloading protobuf-5.26.1-cp310-abi3-win_amd64.whl (420 kB)\n",
      "   --------------------------------------- 420.9/420.9 kB 25.7 MB/s eta 0:00:00\n",
      "Installing collected packages: protobuf, onnx\n",
      "  Attempting uninstall: protobuf\n",
      "    Found existing installation: protobuf 3.19.6\n",
      "    Uninstalling protobuf-3.19.6:\n",
      "      Successfully uninstalled protobuf-3.19.6\n",
      "Successfully installed onnx-1.16.0 protobuf-5.26.1\n",
      "\n",
      "\u001b[31m\u001b[1mrequirements:\u001b[0m AutoUpdate success  18.0s, installed 1 package: ['onnx>=1.12.0']\n",
      "\u001b[31m\u001b[1mrequirements:\u001b[0m  \u001b[1mRestart runtime or rerun command for updates to take effect\u001b[0m\n",
      "\n",
      "\n",
      "\u001b[34m\u001b[1mONNX:\u001b[0m starting export with onnx 1.16.0 opset 17...\n",
      "\u001b[34m\u001b[1mONNX:\u001b[0m export success  18.7s, saved as 'runs\\classify\\train7\\weights\\best.onnx' (6.8 MB)\n",
      "\n",
      "Export complete (20.3s)\n",
      "Results saved to \u001b[1mC:\\Users\\Shawn\\Documents\\masters_spring_2024\\deeplearning\\runs\\classify\\train7\\weights\u001b[0m\n",
      "Predict:         yolo predict task=classify model=runs\\classify\\train7\\weights\\best.onnx imgsz=416  \n",
      "Validate:        yolo val task=classify model=runs\\classify\\train7\\weights\\best.onnx imgsz=416 data=caltech256  \n",
      "Visualize:       https://netron.app\n"
     ]
    },
    {
     "data": {
      "text/plain": [
       "'runs\\\\classify\\\\train7\\\\weights\\\\best.onnx'"
      ]
     },
     "execution_count": 24,
     "metadata": {},
     "output_type": "execute_result"
    }
   ],
   "source": [
    "# Export the model\n",
    "model_2.export(format='onnx')"
   ]
  },
  {
   "cell_type": "markdown",
   "metadata": {},
   "source": [
    "# citation\n",
    "\n",
    "Fei-Fei, Li, Rob Fergus, and Pietro Perona. \"Learning generative visual models from few training examples: An incremental Bayesian approach tested on 101 object categories.\" Computer vision and Image understanding 106.1 (2007): 59-70. Elsevier.\n",
    "\n"
   ]
  }
 ],
 "metadata": {
  "kernelspec": {
   "display_name": "Python 3",
   "language": "python",
   "name": "python3"
  },
  "language_info": {
   "codemirror_mode": {
    "name": "ipython",
    "version": 3
   },
   "file_extension": ".py",
   "mimetype": "text/x-python",
   "name": "python",
   "nbconvert_exporter": "python",
   "pygments_lexer": "ipython3",
   "version": "3.10.11"
  }
 },
 "nbformat": 4,
 "nbformat_minor": 2
}
